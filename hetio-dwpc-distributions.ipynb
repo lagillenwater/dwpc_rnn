{
 "cells": [
  {
   "cell_type": "markdown",
   "metadata": {},
   "source": [
    "# Compute DWPCs for all metapaths\n",
    "\n",
    "Modified from https://github.com/greenelab/connectivity-search-analyses/blob/main/explore/bulk-pipeline/bulk.ipynb"
   ]
  },
  {
   "cell_type": "code",
   "execution_count": 2,
   "metadata": {},
   "outputs": [],
   "source": [
    "import collections\n",
    "import pathlib\n",
    "import shutil\n",
    "import zipfile\n",
    "\n",
    "import numpy\n",
    "import pandas\n",
    "import tqdm\n",
    "\n",
    "import hetmatpy.degree_weight\n",
    "from hetmatpy.hetmat import HetMat\n",
    "import hetmatpy.hetmat.caching\n",
    "import hetmatpy.degree_group\n",
    "import hetmatpy.pipeline\n",
    "from hetmatpy.hetmat.archive import create_archive, create_archive_by_globs\n",
    "\n",
    "import hetnetpy\n",
    "\n",
    "import seaborn as sns\n",
    "import matplotlib.pyplot as plt\n"
   ]
  },
  {
   "cell_type": "code",
   "execution_count": 3,
   "metadata": {},
   "outputs": [],
   "source": [
    "url = 'https://github.com/dhimmel/hetionet/raw/76550e6c93fbe92124edc71725e8c7dd4ca8b1f5/hetnet/json/hetionet-v1.0.json.bz2'\n",
    "graph = hetnetpy.readwrite.read_graph(url)"
   ]
  },
  {
   "cell_type": "code",
   "execution_count": 4,
   "metadata": {},
   "outputs": [],
   "source": [
    "from hetmatpy.hetmat import hetmat_from_graph\n",
    "import os\n",
    "\n",
    "path = './hetionet-v1.0.hetmat'\n",
    "os.makedirs(path, exist_ok=True)\n",
    "hetmat = hetmat_from_graph(graph, path)"
   ]
  },
  {
   "cell_type": "code",
   "execution_count": 5,
   "metadata": {},
   "outputs": [],
   "source": [
    "\n",
    "hetmatpy.degree_weight.default_dwwc_method = hetmatpy.degree_weight.dwwc_recursive"
   ]
  },
  {
   "cell_type": "code",
   "execution_count": 6,
   "metadata": {},
   "outputs": [],
   "source": [
    "# set DWPC damping exponent\n",
    "damping = 0.5\n",
    "\n",
    "# if danger is True, delete existing path-counts, adjusted-path-counts, and archives\n",
    "danger = True\n",
    "clear_adjusted_pcs = True"
   ]
  },
  {
   "cell_type": "code",
   "execution_count": 7,
   "metadata": {},
   "outputs": [
    {
     "data": {
      "text/plain": [
       "2205"
      ]
     },
     "execution_count": 7,
     "metadata": {},
     "output_type": "execute_result"
    }
   ],
   "source": [
    "# All metapaths up to length 3\n",
    "metapaths = hetmat.metagraph.extract_all_metapaths(max_length=3, exclude_inverts=True)\n",
    "len(metapaths)"
   ]
  },
  {
   "cell_type": "code",
   "execution_count": 8,
   "metadata": {},
   "outputs": [
    {
     "data": {
      "text/plain": [
       "[SpDpS, GeAlD]"
      ]
     },
     "execution_count": 8,
     "metadata": {},
     "output_type": "execute_result"
    }
   ],
   "source": [
    "# # Overwrite metapaths for testing purposes\n",
    "metapaths = [ 'SpDpS', 'GeAlD']\n",
    "metapaths = list(map(hetmat.metagraph.get_metapath, metapaths))\n",
    "metapaths"
   ]
  },
  {
   "cell_type": "code",
   "execution_count": 9,
   "metadata": {},
   "outputs": [],
   "source": [
    "metapath_to_stats = dict()"
   ]
  },
  {
   "cell_type": "code",
   "execution_count": 10,
   "metadata": {},
   "outputs": [],
   "source": [
    "if danger:\n",
    "    for delete_dir in hetmat.directory.glob('path-counts/*'):\n",
    "        shutil.rmtree(delete_dir)\n",
    "if danger or clear_adjusted_pcs:\n",
    "    for delete_dir in hetmat.directory.glob('adjusted-path-counts/*'):\n",
    "        shutil.rmtree(delete_dir)"
   ]
  },
  {
   "cell_type": "markdown",
   "metadata": {},
   "source": [
    "### Compute path counts\n",
    "\n",
    "Note that we probably want to make this more intelligent to not read then write inverse of an existing on-disk metapath."
   ]
  },
  {
   "cell_type": "code",
   "execution_count": 11,
   "metadata": {},
   "outputs": [
    {
     "name": "stderr",
     "output_type": "stream",
     "text": [
      "100%|██████████| 2/2 [00:00<00:00,  4.94it/s]\n"
     ]
    }
   ],
   "source": [
    "hetmat.path_counts_cache = hetmatpy.hetmat.caching.PathCountPriorityCache(hetmat, allocate_GB=16)\n",
    "for metapath in tqdm.tqdm(metapaths):\n",
    "    row_ids, col_ids, pc_matrix = hetmatpy.degree_weight.dwpc(hetmat, metapath, damping=0, dense_threshold=1, dtype='uint64')\n",
    "    path = hetmat.get_path_counts_path(metapath, 'dwpc', 0, None)\n",
    "    path.parent.mkdir(parents=True, exist_ok=True)\n",
    "    if not path.exists():\n",
    "        hetmatpy.hetmat.save_matrix(pc_matrix, path)\n",
    "    metapath_to_stats[metapath] = collections.OrderedDict({\n",
    "        'metapath': str(metapath),\n",
    "        'length': len(metapath),\n",
    "        'n_pairs': numpy.prod(pc_matrix.shape),\n",
    "        'pc_density': pc_matrix.count_nonzero() / numpy.prod(pc_matrix.shape),\n",
    "        'pc_mean': pc_matrix.mean(),\n",
    "        'pc_max': pc_matrix.max(),\n",
    "    })\n",
    "    del pc_matrix"
   ]
  },
  {
   "cell_type": "code",
   "execution_count": 12,
   "metadata": {},
   "outputs": [
    {
     "name": "stdout",
     "output_type": "stream",
     "text": [
      "PathCountPriorityCache containing 3 items\n",
      "  total gets: 3\n",
      "  cache hits: memory = 0, disk = 0, absent = 3\n",
      "  0.02 GB in use of 16.00 GB allocated\n"
     ]
    }
   ],
   "source": [
    "print(hetmat.path_counts_cache.get_stats())\n",
    "hetmat.path_counts_cache = None"
   ]
  },
  {
   "cell_type": "markdown",
   "metadata": {},
   "source": [
    "### Compute DWPCs"
   ]
  },
  {
   "cell_type": "code",
   "execution_count": 13,
   "metadata": {},
   "outputs": [
    {
     "name": "stderr",
     "output_type": "stream",
     "text": [
      "100%|██████████| 2/2 [00:00<00:00,  4.52it/s]\n"
     ]
    }
   ],
   "source": [
    "hetmat.path_counts_cache = hetmatpy.hetmat.caching.PathCountPriorityCache(hetmat, allocate_GB=16)\n",
    "for metapath in tqdm.tqdm(metapaths):\n",
    "    row_ids, col_ids, dwpc_matrix = hetmatpy.degree_weight.dwpc(hetmat, metapath, damping=damping, dense_threshold=0.7, dtype='float64')\n",
    "    path = hetmat.get_path_counts_path(metapath, 'dwpc', damping, None)\n",
    "    if not path.exists():\n",
    "        hetmatpy.hetmat.save_matrix(dwpc_matrix, path)\n",
    "    stats = metapath_to_stats[metapath]\n",
    "    stats[f'dwpc-{damping}_raw_mean'] = dwpc_matrix.mean()\n",
    "    del dwpc_matrix"
   ]
  },
  {
   "cell_type": "code",
   "execution_count": 14,
   "metadata": {},
   "outputs": [
    {
     "name": "stdout",
     "output_type": "stream",
     "text": [
      "PathCountPriorityCache containing 3 items\n",
      "  total gets: 3\n",
      "  cache hits: memory = 0, disk = 0, absent = 3\n",
      "  0.02 GB in use of 16.00 GB allocated\n"
     ]
    }
   ],
   "source": [
    "print(hetmat.path_counts_cache.get_stats())\n",
    "hetmat.path_counts_cache = None"
   ]
  },
  {
   "cell_type": "code",
   "execution_count": 15,
   "metadata": {},
   "outputs": [
    {
     "data": {
      "text/html": [
       "<div>\n",
       "<style scoped>\n",
       "    .dataframe tbody tr th:only-of-type {\n",
       "        vertical-align: middle;\n",
       "    }\n",
       "\n",
       "    .dataframe tbody tr th {\n",
       "        vertical-align: top;\n",
       "    }\n",
       "\n",
       "    .dataframe thead th {\n",
       "        text-align: right;\n",
       "    }\n",
       "</style>\n",
       "<table border=\"1\" class=\"dataframe\">\n",
       "  <thead>\n",
       "    <tr style=\"text-align: right;\">\n",
       "      <th></th>\n",
       "      <th>metapath</th>\n",
       "      <th>length</th>\n",
       "      <th>n_pairs</th>\n",
       "      <th>pc_density</th>\n",
       "      <th>pc_mean</th>\n",
       "      <th>pc_max</th>\n",
       "      <th>dwpc-0.5_raw_mean</th>\n",
       "    </tr>\n",
       "  </thead>\n",
       "  <tbody>\n",
       "    <tr>\n",
       "      <th>0</th>\n",
       "      <td>SpDpS</td>\n",
       "      <td>2</td>\n",
       "      <td>191844</td>\n",
       "      <td>0.314391</td>\n",
       "      <td>0.671264</td>\n",
       "      <td>30</td>\n",
       "      <td>0.001777</td>\n",
       "    </tr>\n",
       "    <tr>\n",
       "      <th>1</th>\n",
       "      <td>GeAlD</td>\n",
       "      <td>2</td>\n",
       "      <td>2869465</td>\n",
       "      <td>0.622090</td>\n",
       "      <td>2.274355</td>\n",
       "      <td>37</td>\n",
       "      <td>0.000273</td>\n",
       "    </tr>\n",
       "  </tbody>\n",
       "</table>\n",
       "</div>"
      ],
      "text/plain": [
       "  metapath  length  n_pairs  pc_density   pc_mean  pc_max  dwpc-0.5_raw_mean\n",
       "0    SpDpS       2   191844    0.314391  0.671264      30           0.001777\n",
       "1    GeAlD       2  2869465    0.622090  2.274355      37           0.000273"
      ]
     },
     "execution_count": 15,
     "metadata": {},
     "output_type": "execute_result"
    }
   ],
   "source": [
    "metapath_df = pandas.DataFrame(list(metapath_to_stats.values()))\n",
    "metapath_df.to_csv('metapath-dwpc-stats.tsv', sep='\\t', index=False, float_format='%.6g')\n",
    "metapath_df"
   ]
  },
  {
   "cell_type": "code",
   "execution_count": 22,
   "metadata": {},
   "outputs": [
    {
     "name": "stdout",
     "output_type": "stream",
     "text": [
      "Top 10 DWPC scores: [0.06804138 0.06019293 0.05555556 0.0550459  0.05455447 0.05206821\n",
      " 0.05184758 0.05040409 0.04884507 0.0476679 ]\n",
      "\n",
      "Number of non-zero connections: 2869465\n",
      "Mean DWPC: 0.000273\n",
      "Median DWPC: 0.000163\n",
      "Max DWPC: 0.068041\n"
     ]
    },
    {
     "data": {
      "image/png": "[encoded data removed]",
      "text/plain": [
       "<Figure size 1000x600 with 1 Axes>"
      ]
     },
     "metadata": {},
     "output_type": "display_data"
    }
   ],
   "source": [
    "# Get DWPC matrix for GeAlD with damping=0.5\n",
    "metapath = hetmat.metagraph.get_metapath('GeAlD')\n",
    "row_ids, col_ids, dwpc_matrix = hetmatpy.degree_weight.dwpc(hetmat, metapath, damping=0.5, dense_threshold=0.7, dtype='float64')\n",
    "\n",
    "# Convert to array for easier analysis \n",
    "dwpc_values = dwpc_matrix.toarray().flatten()\n",
    "# Sort dwpc_values in descending order\n",
    "top_dwpc_values = numpy.sort(dwpc_values)[::-1]\n",
    "print(\"Top 10 DWPC scores:\", top_dwpc_values[:10])\n",
    "\n",
    "# Only look at non-zero values\n",
    "# dwpc_values = dwpc_values[dwpc_values > 0]\n",
    "\n",
    "print(f\"\\nNumber of non-zero connections: {len(dwpc_values)}\")\n",
    "print(f\"Mean DWPC: {dwpc_values.mean():.6f}\")\n",
    "print(f\"Median DWPC: {numpy.median(dwpc_values):.6f}\")\n",
    "print(f\"Max DWPC: {dwpc_values.max():.6f}\")\n",
    "\n",
    "# Plot histogram of DWPC distribution\n",
    "plt.figure(figsize=(10, 6))\n",
    "plt.hist(dwpc_values, bins=50, edgecolor='black')\n",
    "plt.title('Distribution of non-zero DWPC scores for GeAlD')\n",
    "plt.xlabel('DWPC Score')\n",
    "plt.ylabel('Frequency')\n",
    "plt.yscale('log')  # Use log scale for y-axis to better visualize distribution\n",
    "plt.grid(True, alpha=0.3)\n",
    "plt.show()\n",
    "\n"
   ]
  },
  {
   "cell_type": "markdown",
   "metadata": {},
   "source": [
    "### Generate running DGP metrics"
   ]
  },
  {
   "cell_type": "code",
   "execution_count": 13,
   "metadata": {},
   "outputs": [],
   "source": [
    "# Attempt to diagnose memory leak in https://github.com/greenelab/hetmech/issues/141\n",
    "import tracemalloc\n",
    "tracemalloc.start()\n",
    "snapshots = [tracemalloc.take_snapshot()]"
   ]
  },
  {
   "cell_type": "code",
   "execution_count": 14,
   "metadata": {},
   "outputs": [
    {
     "name": "stderr",
     "output_type": "stream",
     "text": [
      "100%|██████████| 200/200 [360:43:33<00:00, 6493.07s/it]    \n"
     ]
    }
   ],
   "source": [
    "for name, permat in tqdm.tqdm(hetmat.permutations.items()):\n",
    "    permat.path_counts_cache = hetmech.hetmat.caching.PathCountPriorityCache(permat, allocate_GB=16)\n",
    "    for metapath in metapaths:\n",
    "        dwpc_mean = metapath_to_stats[metapath][f'dwpc-{damping}_raw_mean']\n",
    "        degree_grouped_df = hetmech.degree_group.single_permutation_degree_group(\n",
    "            permat, metapath, dwpc_mean=dwpc_mean, damping=damping)\n",
    "        path = hetmat.get_running_degree_group_path(metapath, 'dwpc', damping, extension='.pkl')\n",
    "        path.parent.mkdir(parents=True, exist_ok=True)\n",
    "        if path.exists():\n",
    "            running_df = pandas.read_pickle(path)\n",
    "            running_df += degree_grouped_df\n",
    "        else:\n",
    "            running_df = degree_grouped_df\n",
    "        running_df.to_pickle(path)\n",
    "    permat.clear_caches()\n",
    "    snapshots.append(tracemalloc.take_snapshot())"
   ]
  },
  {
   "cell_type": "code",
   "execution_count": 15,
   "metadata": {},
   "outputs": [
    {
     "name": "stdout",
     "output_type": "stream",
     "text": [
      "/home/dhimmel/anaconda3/envs/hetmech/lib/python3.6/pathlib.py:69: size=5133 KiB (+5133 KiB), count=201 (+201), average=25.5 KiB\n",
      "/home/dhimmel/anaconda3/envs/hetmech/lib/python3.6/site-packages/pandas/io/pickle.py:166: size=153 KiB (+153 KiB), count=361 (+361), average=435 B\n",
      "/home/dhimmel/anaconda3/envs/hetmech/lib/python3.6/pathlib.py:666: size=109 KiB (+109 KiB), count=1001 (+1001), average=112 B\n",
      "/home/dhimmel/Documents/greene/hetmech/hetmech/degree_group.py:58: size=99.5 KiB (+99.5 KiB), count=186 (+186), average=548 B\n",
      "/home/dhimmel/anaconda3/envs/hetmech/lib/python3.6/site-packages/pandas/core/indexes/multi.py:2683: size=97.6 KiB (+97.6 KiB), count=194 (+194), average=515 B\n",
      "/home/dhimmel/anaconda3/envs/hetmech/lib/python3.6/pathlib.py:52: size=74.8 KiB (+74.8 KiB), count=1197 (+1197), average=64 B\n"
     ]
    }
   ],
   "source": [
    "# https://docs.python.org/3/library/tracemalloc.html\n",
    "malloc_stats = snapshots[-1].compare_to(snapshots[0], 'lineno')\n",
    "for malloc_stat in malloc_stats[:6]:\n",
    "    print(malloc_stat)"
   ]
  },
  {
   "cell_type": "code",
   "execution_count": 16,
   "metadata": {},
   "outputs": [],
   "source": [
    "# Replace .pkl files with .tsv.gz files.\n",
    "for metapath in metapaths:\n",
    "    old_path = hetmat.get_running_degree_group_path(metapath, 'dwpc', damping, extension='.pkl')\n",
    "    df = pandas.read_pickle(old_path)\n",
    "    new_path = hetmat.get_running_degree_group_path(metapath, 'dwpc', damping, extension='.tsv.gz')\n",
    "    df.to_csv(new_path, sep='\\t', compression='gzip')\n",
    "    old_path.unlink()"
   ]
  },
  {
   "cell_type": "markdown",
   "metadata": {},
   "source": [
    "### Combine DWPC with DGP & calculate p-values"
   ]
  },
  {
   "cell_type": "code",
   "execution_count": null,
   "metadata": {},
   "outputs": [],
   "source": [
    "for metapath in tqdm.tqdm(metapaths):\n",
    "    dwpcs_rows = hetmech.pipeline.combine_dwpc_dgp(hetmat, metapath, damping=damping, ignore_zeros=True, max_p_value=0.01)\n",
    "    path = hetmat.directory.joinpath('adjusted-path-counts', f'dwpc-{damping}',\n",
    "                                     'adjusted-dwpcs', f'{metapath}-filtered.tsv.gz')\n",
    "    path.parent.mkdir(parents=True, exist_ok=True)\n",
    "    hetmech.pipeline.grouped_tsv_writer(dwpcs_rows, path, float_format='%.7g', compression='gzip')"
   ]
  }
 ],
 "metadata": {
  "kernelspec": {
   "display_name": "dwpc_rnn",
   "language": "python",
   "name": "python3"
  },
  "language_info": {
   "codemirror_mode": {
    "name": "ipython",
    "version": 3
   },
   "file_extension": ".py",
   "mimetype": "text/x-python",
   "name": "python",
   "nbconvert_exporter": "python",
   "pygments_lexer": "ipython3",
   "version": "3.9.23"
  }
 },
 "nbformat": 4,
 "nbformat_minor": 2
}
