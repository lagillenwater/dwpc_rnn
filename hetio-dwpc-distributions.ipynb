{
 "cells": [
  {
   "cell_type": "markdown",
   "metadata": {},
   "source": [
    "# Compute DWPCs for all metapaths\n",
    "\n",
    "Modified from https://github.com/greenelab/connectivity-search-analyses/blob/main/explore/bulk-pipeline/bulk.ipynb"
   ]
  },
  {
   "cell_type": "code",
   "execution_count": 1,
   "metadata": {},
   "outputs": [],
   "source": [
    "import collections\n",
    "import pathlib\n",
    "import shutil\n",
    "import zipfile\n",
    "\n",
    "import numpy\n",
    "import pandas\n",
    "import tqdm\n",
    "\n",
    "import hetmatpy.degree_weight\n",
    "from hetmatpy.hetmat import HetMat\n",
    "import hetmatpy.hetmat.caching\n",
    "import hetmatpy.degree_group\n",
    "import hetmatpy.pipeline\n",
    "from hetmatpy.hetmat.archive import create_archive, create_archive_by_globs\n",
    "\n",
    "import hetnetpy\n",
    "\n",
    "import seaborn as sns\n",
    "import matplotlib.pyplot as plt\n"
   ]
  },
  {
   "cell_type": "code",
   "execution_count": 2,
   "metadata": {},
   "outputs": [],
   "source": [
    "url = 'https://github.com/dhimmel/hetionet/raw/76550e6c93fbe92124edc71725e8c7dd4ca8b1f5/hetnet/json/hetionet-v1.0.json.bz2'\n",
    "graph = hetnetpy.readwrite.read_graph(url)"
   ]
  },
  {
   "cell_type": "code",
   "execution_count": 3,
   "metadata": {},
   "outputs": [],
   "source": [
    "from hetmatpy.hetmat import hetmat_from_graph\n",
    "import os\n",
    "\n",
    "path = './hetionet-v1.0.hetmat'\n",
    "os.makedirs(path, exist_ok=True)\n",
    "hetmat = hetmat_from_graph(graph, path)"
   ]
  },
  {
   "cell_type": "code",
   "execution_count": 4,
   "metadata": {},
   "outputs": [],
   "source": [
    "\n",
    "hetmatpy.degree_weight.default_dwwc_method = hetmatpy.degree_weight.dwwc_recursive"
   ]
  },
  {
   "cell_type": "code",
   "execution_count": 5,
   "metadata": {},
   "outputs": [],
   "source": [
    "# set DWPC damping exponent\n",
    "damping = 0.5\n",
    "\n",
    "# if danger is True, delete existing path-counts, adjusted-path-counts, and archives\n",
    "danger = True\n",
    "clear_adjusted_pcs = True"
   ]
  },
  {
   "cell_type": "code",
   "execution_count": 6,
   "metadata": {},
   "outputs": [
    {
     "data": {
      "text/plain": [
       "2205"
      ]
     },
     "execution_count": 6,
     "metadata": {},
     "output_type": "execute_result"
    }
   ],
   "source": [
    "# All metapaths up to length 3\n",
    "metapaths = hetmat.metagraph.extract_all_metapaths(max_length=3, exclude_inverts=True)\n",
    "len(metapaths)"
   ]
  },
  {
   "cell_type": "code",
   "execution_count": 7,
   "metadata": {},
   "outputs": [
    {
     "data": {
      "text/plain": [
       "[SpDpS, GeAlD]"
      ]
     },
     "execution_count": 7,
     "metadata": {},
     "output_type": "execute_result"
    }
   ],
   "source": [
    "# # Overwrite metapaths for testing purposes\n",
    "metapaths = [ 'SpDpS', 'GeAlD']\n",
    "metapaths = list(map(hetmat.metagraph.get_metapath, metapaths))\n",
    "metapaths"
   ]
  },
  {
   "cell_type": "code",
   "execution_count": 8,
   "metadata": {},
   "outputs": [],
   "source": [
    "metapath_to_stats = dict()"
   ]
  },
  {
   "cell_type": "code",
   "execution_count": 9,
   "metadata": {},
   "outputs": [],
   "source": [
    "if danger:\n",
    "    for delete_dir in hetmat.directory.glob('path-counts/*'):\n",
    "        shutil.rmtree(delete_dir)\n",
    "if danger or clear_adjusted_pcs:\n",
    "    for delete_dir in hetmat.directory.glob('adjusted-path-counts/*'):\n",
    "        shutil.rmtree(delete_dir)"
   ]
  },
  {
   "cell_type": "markdown",
   "metadata": {},
   "source": [
    "### Compute path counts\n",
    "\n",
    "Note that we probably want to make this more intelligent to not read then write inverse of an existing on-disk metapath."
   ]
  },
  {
   "cell_type": "code",
   "execution_count": 10,
   "metadata": {},
   "outputs": [
    {
     "name": "stderr",
     "output_type": "stream",
     "text": [
      "100%|██████████| 2/2 [00:00<00:00,  4.88it/s]\n"
     ]
    }
   ],
   "source": [
    "hetmat.path_counts_cache = hetmatpy.hetmat.caching.PathCountPriorityCache(hetmat, allocate_GB=16)\n",
    "for metapath in tqdm.tqdm(metapaths):\n",
    "    row_ids, col_ids, pc_matrix = hetmatpy.degree_weight.dwpc(hetmat, metapath, damping=0, dense_threshold=1, dtype='uint64')\n",
    "    path = hetmat.get_path_counts_path(metapath, 'dwpc', 0, None)\n",
    "    path.parent.mkdir(parents=True, exist_ok=True)\n",
    "    if not path.exists():\n",
    "        hetmatpy.hetmat.save_matrix(pc_matrix, path)\n",
    "    metapath_to_stats[metapath] = collections.OrderedDict({\n",
    "        'metapath': str(metapath),\n",
    "        'length': len(metapath),\n",
    "        'n_pairs': numpy.prod(pc_matrix.shape),\n",
    "        'pc_density': pc_matrix.count_nonzero() / numpy.prod(pc_matrix.shape),\n",
    "        'pc_mean': pc_matrix.mean(),\n",
    "        'pc_max': pc_matrix.max(),\n",
    "    })\n",
    "    del pc_matrix"
   ]
  },
  {
   "cell_type": "code",
   "execution_count": 11,
   "metadata": {},
   "outputs": [
    {
     "name": "stdout",
     "output_type": "stream",
     "text": [
      "PathCountPriorityCache containing 3 items\n",
      "  total gets: 3\n",
      "  cache hits: memory = 0, disk = 0, absent = 3\n",
      "  0.02 GB in use of 16.00 GB allocated\n"
     ]
    }
   ],
   "source": [
    "print(hetmat.path_counts_cache.get_stats())\n",
    "hetmat.path_counts_cache = None"
   ]
  },
  {
   "cell_type": "markdown",
   "metadata": {},
   "source": [
    "### Compute DWPCs"
   ]
  },
  {
   "cell_type": "code",
   "execution_count": 12,
   "metadata": {},
   "outputs": [
    {
     "name": "stderr",
     "output_type": "stream",
     "text": [
      "100%|██████████| 2/2 [00:00<00:00,  4.24it/s]\n"
     ]
    }
   ],
   "source": [
    "hetmat.path_counts_cache = hetmatpy.hetmat.caching.PathCountPriorityCache(hetmat, allocate_GB=16)\n",
    "for metapath in tqdm.tqdm(metapaths):\n",
    "    row_ids, col_ids, dwpc_matrix = hetmatpy.degree_weight.dwpc(hetmat, metapath, damping=damping, dense_threshold=0.7, dtype='float64')\n",
    "    path = hetmat.get_path_counts_path(metapath, 'dwpc', damping, None)\n",
    "    if not path.exists():\n",
    "        hetmatpy.hetmat.save_matrix(dwpc_matrix, path)\n",
    "    stats = metapath_to_stats[metapath]\n",
    "    stats[f'dwpc-{damping}_raw_mean'] = dwpc_matrix.mean()\n",
    "    del dwpc_matrix"
   ]
  },
  {
   "cell_type": "code",
   "execution_count": 13,
   "metadata": {},
   "outputs": [
    {
     "name": "stdout",
     "output_type": "stream",
     "text": [
      "PathCountPriorityCache containing 3 items\n",
      "  total gets: 3\n",
      "  cache hits: memory = 0, disk = 0, absent = 3\n",
      "  0.02 GB in use of 16.00 GB allocated\n"
     ]
    }
   ],
   "source": [
    "print(hetmat.path_counts_cache.get_stats())\n",
    "hetmat.path_counts_cache = None"
   ]
  },
  {
   "cell_type": "code",
   "execution_count": 14,
   "metadata": {},
   "outputs": [
    {
     "data": {
      "text/html": [
       "<div>\n",
       "<style scoped>\n",
       "    .dataframe tbody tr th:only-of-type {\n",
       "        vertical-align: middle;\n",
       "    }\n",
       "\n",
       "    .dataframe tbody tr th {\n",
       "        vertical-align: top;\n",
       "    }\n",
       "\n",
       "    .dataframe thead th {\n",
       "        text-align: right;\n",
       "    }\n",
       "</style>\n",
       "<table border=\"1\" class=\"dataframe\">\n",
       "  <thead>\n",
       "    <tr style=\"text-align: right;\">\n",
       "      <th></th>\n",
       "      <th>metapath</th>\n",
       "      <th>length</th>\n",
       "      <th>n_pairs</th>\n",
       "      <th>pc_density</th>\n",
       "      <th>pc_mean</th>\n",
       "      <th>pc_max</th>\n",
       "      <th>dwpc-0.5_raw_mean</th>\n",
       "    </tr>\n",
       "  </thead>\n",
       "  <tbody>\n",
       "    <tr>\n",
       "      <th>0</th>\n",
       "      <td>SpDpS</td>\n",
       "      <td>2</td>\n",
       "      <td>191844</td>\n",
       "      <td>0.314391</td>\n",
       "      <td>0.671264</td>\n",
       "      <td>30</td>\n",
       "      <td>0.001777</td>\n",
       "    </tr>\n",
       "    <tr>\n",
       "      <th>1</th>\n",
       "      <td>GeAlD</td>\n",
       "      <td>2</td>\n",
       "      <td>2869465</td>\n",
       "      <td>0.622090</td>\n",
       "      <td>2.274355</td>\n",
       "      <td>37</td>\n",
       "      <td>0.000273</td>\n",
       "    </tr>\n",
       "  </tbody>\n",
       "</table>\n",
       "</div>"
      ],
      "text/plain": [
       "  metapath  length  n_pairs  pc_density   pc_mean  pc_max  dwpc-0.5_raw_mean\n",
       "0    SpDpS       2   191844    0.314391  0.671264      30           0.001777\n",
       "1    GeAlD       2  2869465    0.622090  2.274355      37           0.000273"
      ]
     },
     "execution_count": 14,
     "metadata": {},
     "output_type": "execute_result"
    }
   ],
   "source": [
    "metapath_df = pandas.DataFrame(list(metapath_to_stats.values()))\n",
    "metapath_df.to_csv('metapath-dwpc-stats.tsv', sep='\\t', index=False, float_format='%.6g')\n",
    "metapath_df"
   ]
  },
  {
   "cell_type": "code",
   "execution_count": null,
   "metadata": {},
   "outputs": [
    {
     "name": "stdout",
     "output_type": "stream",
     "text": [
      "Top 10 DWPC scores: [0.06804138 0.06019293 0.05555556 0.0550459  0.05455447 0.05206821\n",
      " 0.05184758 0.05040409 0.04884507 0.0476679 ]\n",
      "\n",
      "Number of non-zero connections: 2869465\n",
      "Mean DWPC: 0.000273\n",
      "Median DWPC: 0.000163\n",
      "Max DWPC: 0.068041\n"
     ]
    },
    {
     "data": {
      "image/png": "[encoded data removed]",
      "text/plain": [
       "<Figure size 1000x600 with 1 Axes>"
      ]
     },
     "metadata": {},
     "output_type": "display_data"
    }
   ],
   "source": [
    "# Get DWPC matrix for GeAlD with damping=0.5\n",
    "metapath = hetmat.metagraph.get_metapath('GeAlD')\n",
    "row_ids, col_ids, dwpc_matrix = hetmatpy.degree_weight.dwpc(hetmat, metapath, damping=0.5, dense_threshold=0.7, dtype='float64')\n",
    "\n",
    "# Convert to array for easier analysis \n",
    "dwpc_values = dwpc_matrix.toarray().flatten()\n",
    "# Sort dwpc_values in descending order\n",
    "top_dwpc_values = numpy.sort(dwpc_values)[::-1]\n",
    "print(\"Top 10 DWPC scores:\", top_dwpc_values[:10])\n",
    "\n",
    "# Only look at non-zero values\n",
    "dwpc_values = dwpc_values[dwpc_values > 0]\n",
    "\n",
    "print(f\"\\nNumber of non-zero connections: {len(dwpc_values)}\")\n",
    "print(f\"Mean DWPC: {dwpc_values.mean():.6f}\")\n",
    "print(f\"Median DWPC: {numpy.median(dwpc_values):.6f}\")\n",
    "print(f\"Max DWPC: {dwpc_values.max():.6f}\")\n",
    "\n",
    "# Plot histogram of DWPC distribution\n",
    "plt.figure(figsize=(10, 6))\n",
    "plt.hist(dwpc_values, bins=50, edgecolor='black')\n",
    "plt.title('Distribution of non-zero DWPC scores for GeAlD')\n",
    "plt.xlabel('DWPC Score')\n",
    "plt.ylabel('Frequency')\n",
    "plt.yscale('log')  # Use log scale for y-axis to better visualize distribution\n",
    "plt.grid(True, alpha=0.3)\n",
    "plt.show()\n",
    "\n"
   ]
  },
  {
   "cell_type": "markdown",
   "metadata": {},
   "source": [
    "### Generate running DGP metrics"
   ]
  },
  {
   "cell_type": "code",
   "execution_count": 16,
   "metadata": {},
   "outputs": [],
   "source": [
    "# Attempt to diagnose memory leak in https://github.com/greenelab/hetmech/issues/141\n",
    "import tracemalloc\n",
    "tracemalloc.start()\n",
    "snapshots = [tracemalloc.take_snapshot()]"
   ]
  },
  {
   "cell_type": "code",
   "execution_count": 17,
   "metadata": {},
   "outputs": [
    {
     "name": "stderr",
     "output_type": "stream",
     "text": [
      "0it [00:00, ?it/s]\n"
     ]
    }
   ],
   "source": [
    "for name, permat in tqdm.tqdm(hetmat.permutations.items()):\n",
    "    permat.path_counts_cache = hetmech.hetmat.caching.PathCountPriorityCache(permat, allocate_GB=16)\n",
    "    for metapath in metapaths:\n",
    "        dwpc_mean = metapath_to_stats[metapath][f'dwpc-{damping}_raw_mean']\n",
    "        degree_grouped_df = hetmech.degree_group.single_permutation_degree_group(\n",
    "            permat, metapath, dwpc_mean=dwpc_mean, damping=damping)\n",
    "        path = hetmat.get_running_degree_group_path(metapath, 'dwpc', damping, extension='.pkl')\n",
    "        path.parent.mkdir(parents=True, exist_ok=True)\n",
    "        if path.exists():\n",
    "            running_df = pandas.read_pickle(path)\n",
    "            running_df += degree_grouped_df\n",
    "        else:\n",
    "            running_df = degree_grouped_df\n",
    "        running_df.to_pickle(path)\n",
    "    permat.clear_caches()\n",
    "    snapshots.append(tracemalloc.take_snapshot())"
   ]
  },
  {
   "cell_type": "code",
   "execution_count": 18,
   "metadata": {},
   "outputs": [
    {
     "name": "stdout",
     "output_type": "stream",
     "text": [
      "/opt/miniconda3/envs/dwpc_rnn_clean/lib/python3.10/codeop.py:118: size=258 B (+0 B), count=3 (+0), average=86 B\n",
      "/opt/miniconda3/envs/dwpc_rnn_clean/lib/python3.10/site-packages/IPython/core/interactiveshell.py:3519: size=112 B (+0 B), count=1 (+0), average=112 B\n",
      "/opt/miniconda3/envs/dwpc_rnn_clean/lib/python3.10/site-packages/IPython/core/interactiveshell.py:3509: size=96 B (+0 B), count=3 (+0), average=32 B\n",
      "/opt/miniconda3/envs/dwpc_rnn_clean/lib/python3.10/site-packages/IPython/core/interactiveshell.py:3568: size=64 B (+0 B), count=1 (+0), average=64 B\n",
      "/opt/miniconda3/envs/dwpc_rnn_clean/lib/python3.10/site-packages/IPython/core/compilerop.py:192: size=28 B (+0 B), count=1 (+0), average=28 B\n"
     ]
    }
   ],
   "source": [
    "# https://docs.python.org/3/library/tracemalloc.html\n",
    "malloc_stats = snapshots[-1].compare_to(snapshots[0], 'lineno')\n",
    "for malloc_stat in malloc_stats[:6]:\n",
    "    print(malloc_stat)"
   ]
  },
  {
   "cell_type": "code",
   "execution_count": 19,
   "metadata": {},
   "outputs": [
    {
     "ename": "FileNotFoundError",
     "evalue": "[Errno 2] No such file or directory: 'hetionet-v1.0.hetmat/adjusted-path-counts/dwpc-0.5/degree-grouped-permutations/SpDpS.pkl'",
     "output_type": "error",
     "traceback": [
      "\u001b[0;31m---------------------------------------------------------------------------\u001b[0m",
      "\u001b[0;31mFileNotFoundError\u001b[0m                         Traceback (most recent call last)",
      "Cell \u001b[0;32mIn[19], line 4\u001b[0m\n\u001b[1;32m      2\u001b[0m \u001b[38;5;28;01mfor\u001b[39;00m metapath \u001b[38;5;129;01min\u001b[39;00m metapaths:\n\u001b[1;32m      3\u001b[0m     old_path \u001b[38;5;241m=\u001b[39m hetmat\u001b[38;5;241m.\u001b[39mget_running_degree_group_path(metapath, \u001b[38;5;124m'\u001b[39m\u001b[38;5;124mdwpc\u001b[39m\u001b[38;5;124m'\u001b[39m, damping, extension\u001b[38;5;241m=\u001b[39m\u001b[38;5;124m'\u001b[39m\u001b[38;5;124m.pkl\u001b[39m\u001b[38;5;124m'\u001b[39m)\n\u001b[0;32m----> 4\u001b[0m     df \u001b[38;5;241m=\u001b[39m \u001b[43mpandas\u001b[49m\u001b[38;5;241;43m.\u001b[39;49m\u001b[43mread_pickle\u001b[49m\u001b[43m(\u001b[49m\u001b[43mold_path\u001b[49m\u001b[43m)\u001b[49m\n\u001b[1;32m      5\u001b[0m     new_path \u001b[38;5;241m=\u001b[39m hetmat\u001b[38;5;241m.\u001b[39mget_running_degree_group_path(metapath, \u001b[38;5;124m'\u001b[39m\u001b[38;5;124mdwpc\u001b[39m\u001b[38;5;124m'\u001b[39m, damping, extension\u001b[38;5;241m=\u001b[39m\u001b[38;5;124m'\u001b[39m\u001b[38;5;124m.tsv.gz\u001b[39m\u001b[38;5;124m'\u001b[39m)\n\u001b[1;32m      6\u001b[0m     df\u001b[38;5;241m.\u001b[39mto_csv(new_path, sep\u001b[38;5;241m=\u001b[39m\u001b[38;5;124m'\u001b[39m\u001b[38;5;130;01m\\t\u001b[39;00m\u001b[38;5;124m'\u001b[39m, compression\u001b[38;5;241m=\u001b[39m\u001b[38;5;124m'\u001b[39m\u001b[38;5;124mgzip\u001b[39m\u001b[38;5;124m'\u001b[39m)\n",
      "File \u001b[0;32m/opt/miniconda3/envs/dwpc_rnn_clean/lib/python3.10/site-packages/pandas/io/pickle.py:185\u001b[0m, in \u001b[0;36mread_pickle\u001b[0;34m(filepath_or_buffer, compression, storage_options)\u001b[0m\n\u001b[1;32m    123\u001b[0m \u001b[38;5;250m\u001b[39m\u001b[38;5;124;03m\"\"\"\u001b[39;00m\n\u001b[1;32m    124\u001b[0m \u001b[38;5;124;03mLoad pickled pandas object (or any object) from file.\u001b[39;00m\n\u001b[1;32m    125\u001b[0m \n\u001b[0;32m   (...)\u001b[0m\n\u001b[1;32m    182\u001b[0m \u001b[38;5;124;03m4    4    9\u001b[39;00m\n\u001b[1;32m    183\u001b[0m \u001b[38;5;124;03m\"\"\"\u001b[39;00m\n\u001b[1;32m    184\u001b[0m excs_to_catch \u001b[38;5;241m=\u001b[39m (\u001b[38;5;167;01mAttributeError\u001b[39;00m, \u001b[38;5;167;01mImportError\u001b[39;00m, \u001b[38;5;167;01mModuleNotFoundError\u001b[39;00m, \u001b[38;5;167;01mTypeError\u001b[39;00m)\n\u001b[0;32m--> 185\u001b[0m \u001b[38;5;28;01mwith\u001b[39;00m \u001b[43mget_handle\u001b[49m\u001b[43m(\u001b[49m\n\u001b[1;32m    186\u001b[0m \u001b[43m    \u001b[49m\u001b[43mfilepath_or_buffer\u001b[49m\u001b[43m,\u001b[49m\n\u001b[1;32m    187\u001b[0m \u001b[43m    \u001b[49m\u001b[38;5;124;43m\"\u001b[39;49m\u001b[38;5;124;43mrb\u001b[39;49m\u001b[38;5;124;43m\"\u001b[39;49m\u001b[43m,\u001b[49m\n\u001b[1;32m    188\u001b[0m \u001b[43m    \u001b[49m\u001b[43mcompression\u001b[49m\u001b[38;5;241;43m=\u001b[39;49m\u001b[43mcompression\u001b[49m\u001b[43m,\u001b[49m\n\u001b[1;32m    189\u001b[0m \u001b[43m    \u001b[49m\u001b[43mis_text\u001b[49m\u001b[38;5;241;43m=\u001b[39;49m\u001b[38;5;28;43;01mFalse\u001b[39;49;00m\u001b[43m,\u001b[49m\n\u001b[1;32m    190\u001b[0m \u001b[43m    \u001b[49m\u001b[43mstorage_options\u001b[49m\u001b[38;5;241;43m=\u001b[39;49m\u001b[43mstorage_options\u001b[49m\u001b[43m,\u001b[49m\n\u001b[1;32m    191\u001b[0m \u001b[43m\u001b[49m\u001b[43m)\u001b[49m \u001b[38;5;28;01mas\u001b[39;00m handles:\n\u001b[1;32m    192\u001b[0m     \u001b[38;5;66;03m# 1) try standard library Pickle\u001b[39;00m\n\u001b[1;32m    193\u001b[0m     \u001b[38;5;66;03m# 2) try pickle_compat (older pandas version) to handle subclass changes\u001b[39;00m\n\u001b[1;32m    194\u001b[0m     \u001b[38;5;66;03m# 3) try pickle_compat with latin-1 encoding upon a UnicodeDecodeError\u001b[39;00m\n\u001b[1;32m    196\u001b[0m     \u001b[38;5;28;01mtry\u001b[39;00m:\n\u001b[1;32m    197\u001b[0m         \u001b[38;5;66;03m# TypeError for Cython complaints about object.__new__ vs Tick.__new__\u001b[39;00m\n\u001b[1;32m    198\u001b[0m         \u001b[38;5;28;01mtry\u001b[39;00m:\n",
      "File \u001b[0;32m/opt/miniconda3/envs/dwpc_rnn_clean/lib/python3.10/site-packages/pandas/io/common.py:882\u001b[0m, in \u001b[0;36mget_handle\u001b[0;34m(path_or_buf, mode, encoding, compression, memory_map, is_text, errors, storage_options)\u001b[0m\n\u001b[1;32m    873\u001b[0m         handle \u001b[38;5;241m=\u001b[39m \u001b[38;5;28mopen\u001b[39m(\n\u001b[1;32m    874\u001b[0m             handle,\n\u001b[1;32m    875\u001b[0m             ioargs\u001b[38;5;241m.\u001b[39mmode,\n\u001b[0;32m   (...)\u001b[0m\n\u001b[1;32m    878\u001b[0m             newline\u001b[38;5;241m=\u001b[39m\u001b[38;5;124m\"\u001b[39m\u001b[38;5;124m\"\u001b[39m,\n\u001b[1;32m    879\u001b[0m         )\n\u001b[1;32m    880\u001b[0m     \u001b[38;5;28;01melse\u001b[39;00m:\n\u001b[1;32m    881\u001b[0m         \u001b[38;5;66;03m# Binary mode\u001b[39;00m\n\u001b[0;32m--> 882\u001b[0m         handle \u001b[38;5;241m=\u001b[39m \u001b[38;5;28;43mopen\u001b[39;49m\u001b[43m(\u001b[49m\u001b[43mhandle\u001b[49m\u001b[43m,\u001b[49m\u001b[43m \u001b[49m\u001b[43mioargs\u001b[49m\u001b[38;5;241;43m.\u001b[39;49m\u001b[43mmode\u001b[49m\u001b[43m)\u001b[49m\n\u001b[1;32m    883\u001b[0m     handles\u001b[38;5;241m.\u001b[39mappend(handle)\n\u001b[1;32m    885\u001b[0m \u001b[38;5;66;03m# Convert BytesIO or file objects passed with an encoding\u001b[39;00m\n",
      "\u001b[0;31mFileNotFoundError\u001b[0m: [Errno 2] No such file or directory: 'hetionet-v1.0.hetmat/adjusted-path-counts/dwpc-0.5/degree-grouped-permutations/SpDpS.pkl'"
     ]
    }
   ],
   "source": [
    "# Replace .pkl files with .tsv.gz files.\n",
    "for metapath in metapaths:\n",
    "    old_path = hetmat.get_running_degree_group_path(metapath, 'dwpc', damping, extension='.pkl')\n",
    "    df = pandas.read_pickle(old_path)\n",
    "    new_path = hetmat.get_running_degree_group_path(metapath, 'dwpc', damping, extension='.tsv.gz')\n",
    "    df.to_csv(new_path, sep='\\t', compression='gzip')\n",
    "    old_path.unlink()"
   ]
  },
  {
   "cell_type": "markdown",
   "metadata": {},
   "source": [
    "### Combine DWPC with DGP & calculate p-values"
   ]
  },
  {
   "cell_type": "code",
   "execution_count": null,
   "metadata": {},
   "outputs": [],
   "source": [
    "for metapath in tqdm.tqdm(metapaths):\n",
    "    dwpcs_rows = hetmech.pipeline.combine_dwpc_dgp(hetmat, metapath, damping=damping, ignore_zeros=True, max_p_value=0.01)\n",
    "    path = hetmat.directory.joinpath('adjusted-path-counts', f'dwpc-{damping}',\n",
    "                                     'adjusted-dwpcs', f'{metapath}-filtered.tsv.gz')\n",
    "    path.parent.mkdir(parents=True, exist_ok=True)\n",
    "    hetmech.pipeline.grouped_tsv_writer(dwpcs_rows, path, float_format='%.7g', compression='gzip')"
   ]
  }
 ],
 "metadata": {
  "kernelspec": {
   "display_name": "dwpc_rnn_clean",
   "language": "python",
   "name": "python3"
  },
  "language_info": {
   "codemirror_mode": {
    "name": "ipython",
    "version": 3
   },
   "file_extension": ".py",
   "mimetype": "text/x-python",
   "name": "python",
   "nbconvert_exporter": "python",
   "pygments_lexer": "ipython3",
   "version": "3.10.18"
  }
 },
 "nbformat": 4,
 "nbformat_minor": 2
}
