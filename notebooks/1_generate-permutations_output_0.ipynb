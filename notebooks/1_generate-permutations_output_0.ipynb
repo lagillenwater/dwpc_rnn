{
 "cells": [
  {
   "cell_type": "code",
   "execution_count": 1,
   "id": "5aa761d9",
   "metadata": {
    "execution": {
     "iopub.execute_input": "2025-08-29T18:17:06.571305Z",
     "iopub.status.busy": "2025-08-29T18:17:06.571003Z",
     "iopub.status.idle": "2025-08-29T18:17:22.860041Z",
     "shell.execute_reply": "2025-08-29T18:17:22.859210Z"
    },
    "papermill": {
     "duration": 16.299016,
     "end_time": "2025-08-29T18:17:22.862168",
     "exception": false,
     "start_time": "2025-08-29T18:17:06.563152",
     "status": "completed"
    },
    "tags": []
   },
   "outputs": [],
   "source": [
    "import itertools\n",
    "import pandas as pd\n",
    "import hetnetpy.readwrite\n",
    "\n",
    "import hetmatpy.hetmat"
   ]
  },
  {
   "cell_type": "code",
   "execution_count": 2,
   "id": "5a53f757",
   "metadata": {
    "execution": {
     "iopub.execute_input": "2025-08-29T18:17:22.875406Z",
     "iopub.status.busy": "2025-08-29T18:17:22.874920Z",
     "iopub.status.idle": "2025-08-29T18:17:22.880852Z",
     "shell.execute_reply": "2025-08-29T18:17:22.880083Z"
    },
    "papermill": {
     "duration": 0.014188,
     "end_time": "2025-08-29T18:17:22.882173",
     "exception": false,
     "start_time": "2025-08-29T18:17:22.867985",
     "status": "completed"
    },
    "tags": [
     "parameters"
    ]
   },
   "outputs": [
    {
     "name": "stdout",
     "output_type": "stream",
     "text": [
      "Generating permutation with number: 000\n"
     ]
    }
   ],
   "source": [
    "\n",
    "# Default parameter values\n",
    "permutation_number = 0  # The number to use for the permutation name (e.g., 0 -> \"000\", 1 -> \"001\", etc.)\n",
    "\n",
    "# Validation\n",
    "if not isinstance(permutation_number, int) or permutation_number < 0:\n",
    "    raise ValueError(f\"permutation_number must be a non-negative integer, got: {permutation_number}\")\n",
    "\n",
    "print(f\"Generating permutation with number: {permutation_number:03d}\")"
   ]
  },
  {
   "cell_type": "code",
   "execution_count": 3,
   "id": "4de04ef8",
   "metadata": {
    "execution": {
     "iopub.execute_input": "2025-08-29T18:17:22.895930Z",
     "iopub.status.busy": "2025-08-29T18:17:22.895558Z",
     "iopub.status.idle": "2025-08-29T18:17:22.898980Z",
     "shell.execute_reply": "2025-08-29T18:17:22.898278Z"
    },
    "papermill": {
     "duration": 0.011787,
     "end_time": "2025-08-29T18:17:22.900183",
     "exception": false,
     "start_time": "2025-08-29T18:17:22.888396",
     "status": "completed"
    },
    "tags": [
     "injected-parameters"
    ]
   },
   "outputs": [],
   "source": [
    "# Parameters\n",
    "permutation_number = 0\n"
   ]
  },
  {
   "cell_type": "markdown",
   "id": "0639777c",
   "metadata": {
    "papermill": {
     "duration": 0.006119,
     "end_time": "2025-08-29T18:17:22.912466",
     "exception": false,
     "start_time": "2025-08-29T18:17:22.906347",
     "status": "completed"
    },
    "tags": []
   },
   "source": [
    "# Generate a new permutation\n",
    "\n",
    "This notebook generates a new graph permutation with a parameterizable name.\n",
    "\n",
    "## Usage with Papermill\n",
    "\n",
    "To run this notebook with papermill and specify a custom permutation number:\n",
    "\n",
    "```bash\n",
    "papermill 1_generate-permutations.ipynb output.ipynb -p permutation_number 5\n",
    "```\n",
    "\n",
    "This will generate a permutation named \"005\".\n",
    "\n",
    "## Parameters\n",
    "\n",
    "- `permutation_number` (int): The number to use for the permutation name. Will be formatted as a 3-digit zero-padded string (e.g., 0 -> \"000\", 1 -> \"001\", 123 -> \"123\")"
   ]
  },
  {
   "cell_type": "code",
   "execution_count": 4,
   "id": "81cd8a71",
   "metadata": {
    "execution": {
     "iopub.execute_input": "2025-08-29T18:17:22.925098Z",
     "iopub.status.busy": "2025-08-29T18:17:22.924771Z",
     "iopub.status.idle": "2025-08-29T18:17:22.928473Z",
     "shell.execute_reply": "2025-08-29T18:17:22.927706Z"
    },
    "papermill": {
     "duration": 0.011268,
     "end_time": "2025-08-29T18:17:22.929597",
     "exception": false,
     "start_time": "2025-08-29T18:17:22.918329",
     "status": "completed"
    },
    "tags": []
   },
   "outputs": [],
   "source": [
    "hetmat = hetmatpy.hetmat.HetMat('../data')"
   ]
  },
  {
   "cell_type": "code",
   "execution_count": 5,
   "id": "724b2eb9",
   "metadata": {
    "execution": {
     "iopub.execute_input": "2025-08-29T18:17:22.941254Z",
     "iopub.status.busy": "2025-08-29T18:17:22.940943Z",
     "iopub.status.idle": "2025-08-29T18:17:22.944798Z",
     "shell.execute_reply": "2025-08-29T18:17:22.944067Z"
    },
    "papermill": {
     "duration": 0.011217,
     "end_time": "2025-08-29T18:17:22.946363",
     "exception": false,
     "start_time": "2025-08-29T18:17:22.935146",
     "status": "completed"
    },
    "tags": []
   },
   "outputs": [],
   "source": [
    "# Create namer starting from the specified permutation number\n",
    "namer = (f'{x:03}' for x in itertools.count(start=permutation_number))"
   ]
  },
  {
   "cell_type": "code",
   "execution_count": 6,
   "id": "c3e2f289",
   "metadata": {
    "execution": {
     "iopub.execute_input": "2025-08-29T18:17:22.960018Z",
     "iopub.status.busy": "2025-08-29T18:17:22.959676Z",
     "iopub.status.idle": "2025-08-29T18:17:22.963878Z",
     "shell.execute_reply": "2025-08-29T18:17:22.963136Z"
    },
    "papermill": {
     "duration": 0.012538,
     "end_time": "2025-08-29T18:17:22.965111",
     "exception": false,
     "start_time": "2025-08-29T18:17:22.952573",
     "status": "completed"
    },
    "tags": []
   },
   "outputs": [
    {
     "name": "stdout",
     "output_type": "stream",
     "text": [
      "Will generate permutation with name: 000\n"
     ]
    }
   ],
   "source": [
    "# Display the permutation name that will be generated\n",
    "permutation_name = f'{permutation_number:03d}'\n",
    "print(f\"Will generate permutation with name: {permutation_name}\")"
   ]
  },
  {
   "cell_type": "code",
   "execution_count": null,
   "id": "91923829",
   "metadata": {
    "execution": {
     "iopub.execute_input": "2025-08-29T17:07:12.865915Z",
     "iopub.status.busy": "2025-08-29T17:07:12.865745Z",
     "iopub.status.idle": "2025-08-29T17:31:31.810007Z",
     "shell.execute_reply": "2025-08-29T17:31:31.809249Z"
    },
    "papermill": {
     "duration": null,
     "end_time": null,
     "exception": false,
     "start_time": "2025-08-29T18:17:22.971947",
     "status": "running"
    },
    "scrolled": true,
    "tags": []
   },
   "outputs": [],
   "source": [
    "%%time\n",
    "stats = hetmat.permute_graph(num_new_permutations=1,namer= namer)"
   ]
  }
 ],
 "metadata": {
  "kernelspec": {
   "display_name": "dwpc_rnn_clean",
   "language": "python",
   "name": "python3"
  },
  "language_info": {
   "codemirror_mode": {
    "name": "ipython",
    "version": 3
   },
   "file_extension": ".py",
   "mimetype": "text/x-python",
   "name": "python",
   "nbconvert_exporter": "python",
   "pygments_lexer": "ipython3",
   "version": "3.10.18"
  },
  "papermill": {
   "default_parameters": {},
   "duration": null,
   "end_time": null,
   "environment_variables": {},
   "exception": null,
   "input_path": "/projects/lgillenwater@xsede.org/dwpc_rnn/notebooks/1_generate-permutations.ipynb",
   "output_path": "/projects/lgillenwater@xsede.org/dwpc_rnn/notebooks/1_generate-permutations_output_0.ipynb",
   "parameters": {
    "permutation_number": 0
   },
   "start_time": "2025-08-29T18:16:53.737315",
   "version": "2.6.0"
  }
 },
 "nbformat": 4,
 "nbformat_minor": 5
}