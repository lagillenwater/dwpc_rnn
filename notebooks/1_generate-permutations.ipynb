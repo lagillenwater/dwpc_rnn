{
 "cells": [
  {
   "cell_type": "code",
   "execution_count": 1,
   "id": "5aa761d9",
   "metadata": {
    "execution": {
     "iopub.execute_input": "2025-08-29T17:07:11.168993Z",
     "iopub.status.busy": "2025-08-29T17:07:11.168681Z",
     "iopub.status.idle": "2025-08-29T17:07:12.824378Z",
     "shell.execute_reply": "2025-08-29T17:07:12.823733Z"
    },
    "papermill": {
     "duration": 1.664609,
     "end_time": "2025-08-29T17:07:12.825733",
     "exception": false,
     "start_time": "2025-08-29T17:07:11.161124",
     "status": "completed"
    },
    "tags": []
   },
   "outputs": [],
   "source": [
    "import itertools\n",
    "import pandas as pd\n",
    "import hetnetpy.readwrite\n",
    "\n",
    "import hetmatpy.hetmat"
   ]
  },
  {
   "cell_type": "code",
   "execution_count": null,
   "id": "5a53f757",
   "metadata": {
    "tags": [
     "parameters"
    ]
   },
   "outputs": [],
   "source": [
    "\n",
    "# Default parameter values\n",
    "permutation_number = 0  # The number to use for the permutation name (e.g., 0 -> \"000\", 1 -> \"001\", etc.)\n",
    "\n",
    "# Validation\n",
    "if not isinstance(permutation_number, int) or permutation_number < 0:\n",
    "    raise ValueError(f\"permutation_number must be a non-negative integer, got: {permutation_number}\")\n",
    "\n",
    "print(f\"Generating permutation with number: {permutation_number:03d}\")"
   ]
  },
  {
   "cell_type": "markdown",
   "id": "0639777c",
   "metadata": {
    "papermill": {
     "duration": 0.00391,
     "end_time": "2025-08-29T17:07:12.834808",
     "exception": false,
     "start_time": "2025-08-29T17:07:12.830898",
     "status": "completed"
    },
    "tags": []
   },
   "source": [
    "# Generate a new permutation\n",
    "\n",
    "This notebook generates a new graph permutation with a parameterizable name.\n",
    "\n",
    "## Usage with Papermill\n",
    "\n",
    "To run this notebook with papermill and specify a custom permutation number:\n",
    "\n",
    "```bash\n",
    "papermill 1_generate-permutations.ipynb output.ipynb -p permutation_number 5\n",
    "```\n",
    "\n",
    "This will generate a permutation named \"005\".\n",
    "\n",
    "## Parameters\n",
    "\n",
    "- `permutation_number` (int): The number to use for the permutation name. Will be formatted as a 3-digit zero-padded string (e.g., 0 -> \"000\", 1 -> \"001\", 123 -> \"123\")"
   ]
  },
  {
   "cell_type": "code",
   "execution_count": 2,
   "id": "81cd8a71",
   "metadata": {
    "execution": {
     "iopub.execute_input": "2025-08-29T17:07:12.843173Z",
     "iopub.status.busy": "2025-08-29T17:07:12.842877Z",
     "iopub.status.idle": "2025-08-29T17:07:12.845736Z",
     "shell.execute_reply": "2025-08-29T17:07:12.845317Z"
    },
    "papermill": {
     "duration": 0.007843,
     "end_time": "2025-08-29T17:07:12.846437",
     "exception": false,
     "start_time": "2025-08-29T17:07:12.838594",
     "status": "completed"
    },
    "tags": []
   },
   "outputs": [],
   "source": [
    "hetmat = hetmatpy.hetmat.HetMat('../data')"
   ]
  },
  {
   "cell_type": "code",
   "execution_count": null,
   "id": "724b2eb9",
   "metadata": {
    "execution": {
     "iopub.execute_input": "2025-08-29T17:07:12.854805Z",
     "iopub.status.busy": "2025-08-29T17:07:12.854602Z",
     "iopub.status.idle": "2025-08-29T17:07:12.857054Z",
     "shell.execute_reply": "2025-08-29T17:07:12.856656Z"
    },
    "papermill": {
     "duration": 0.007414,
     "end_time": "2025-08-29T17:07:12.857762",
     "exception": false,
     "start_time": "2025-08-29T17:07:12.850348",
     "status": "completed"
    },
    "tags": []
   },
   "outputs": [],
   "source": [
    "# Create namer starting from the specified permutation number\n",
    "namer = (f'{x:03}' for x in itertools.count(start=permutation_number))"
   ]
  },
  {
   "cell_type": "code",
   "execution_count": null,
   "id": "c3e2f289",
   "metadata": {},
   "outputs": [],
   "source": [
    "# Display the permutation name that will be generated\n",
    "permutation_name = f'{permutation_number:03d}'\n",
    "print(f\"Will generate permutation with name: {permutation_name}\")"
   ]
  },
  {
   "cell_type": "code",
   "execution_count": 4,
   "id": "91923829",
   "metadata": {
    "execution": {
     "iopub.execute_input": "2025-08-29T17:07:12.865915Z",
     "iopub.status.busy": "2025-08-29T17:07:12.865745Z",
     "iopub.status.idle": "2025-08-29T17:31:31.810007Z",
     "shell.execute_reply": "2025-08-29T17:31:31.809249Z"
    },
    "papermill": {
     "duration": 1458.95347,
     "end_time": "2025-08-29T17:31:31.815098",
     "exception": false,
     "start_time": "2025-08-29T17:07:12.861628",
     "status": "completed"
    },
    "scrolled": true,
    "tags": []
   },
   "outputs": [
    {
     "name": "stdout",
     "output_type": "stream",
     "text": [
      "CPU times: user 24min 8s, sys: 2.25 s, total: 24min 10s\n",
      "Wall time: 24min 18s\n"
     ]
    }
   ],
   "source": [
    "%%time\n",
    "stats = hetmat.permute_graph(num_new_permutations=1,namer= namer)"
   ]
  }
 ],
 "metadata": {
  "kernelspec": {
   "display_name": "dwpc_rnn_clean",
   "language": "python",
   "name": "python3"
  },
  "language_info": {
   "codemirror_mode": {
    "name": "ipython",
    "version": 3
   },
   "file_extension": ".py",
   "mimetype": "text/x-python",
   "name": "python",
   "nbconvert_exporter": "python",
   "pygments_lexer": "ipython3",
   "version": "3.10.18"
  },
  "papermill": {
   "default_parameters": {},
   "duration": 1463.660599,
   "end_time": "2025-08-29T17:31:32.283710",
   "environment_variables": {},
   "exception": null,
   "input_path": "/projects/lgillenwater@xsede.org/dwpc_rnn/notebooks/02.generate-permutations.ipynb",
   "output_path": "/projects/lgillenwater@xsede.org/dwpc_rnn/notebooks/02.generate-permuations.ipynb",
   "parameters": {},
   "start_time": "2025-08-29T17:07:08.623111",
   "version": "2.6.0"
  }
 },
 "nbformat": 4,
 "nbformat_minor": 5
}
