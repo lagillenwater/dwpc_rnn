{
 "cells": [
  {
   "cell_type": "code",
   "execution_count": 1,
   "id": "5aa761d9",
   "metadata": {
    "execution": {
     "iopub.execute_input": "2025-08-29T17:07:11.168993Z",
     "iopub.status.busy": "2025-08-29T17:07:11.168681Z",
     "iopub.status.idle": "2025-08-29T17:07:12.824378Z",
     "shell.execute_reply": "2025-08-29T17:07:12.823733Z"
    },
    "papermill": {
     "duration": 1.664609,
     "end_time": "2025-08-29T17:07:12.825733",
     "exception": false,
     "start_time": "2025-08-29T17:07:11.161124",
     "status": "completed"
    },
    "tags": []
   },
   "outputs": [],
   "source": [
    "import itertools\n",
    "import pandas as pd\n",
    "import hetnetpy.readwrite\n",
    "\n",
    "import hetmatpy.hetmat"
   ]
  },
  {
   "cell_type": "markdown",
   "id": "0639777c",
   "metadata": {
    "papermill": {
     "duration": 0.00391,
     "end_time": "2025-08-29T17:07:12.834808",
     "exception": false,
     "start_time": "2025-08-29T17:07:12.830898",
     "status": "completed"
    },
    "tags": []
   },
   "source": [
    "## Generate a new permutation"
   ]
  },
  {
   "cell_type": "code",
   "execution_count": 2,
   "id": "81cd8a71",
   "metadata": {
    "execution": {
     "iopub.execute_input": "2025-08-29T17:07:12.843173Z",
     "iopub.status.busy": "2025-08-29T17:07:12.842877Z",
     "iopub.status.idle": "2025-08-29T17:07:12.845736Z",
     "shell.execute_reply": "2025-08-29T17:07:12.845317Z"
    },
    "papermill": {
     "duration": 0.007843,
     "end_time": "2025-08-29T17:07:12.846437",
     "exception": false,
     "start_time": "2025-08-29T17:07:12.838594",
     "status": "completed"
    },
    "tags": []
   },
   "outputs": [],
   "source": [
    "hetmat = hetmatpy.hetmat.HetMat('../data')"
   ]
  },
  {
   "cell_type": "code",
   "execution_count": 3,
   "id": "724b2eb9",
   "metadata": {
    "execution": {
     "iopub.execute_input": "2025-08-29T17:07:12.854805Z",
     "iopub.status.busy": "2025-08-29T17:07:12.854602Z",
     "iopub.status.idle": "2025-08-29T17:07:12.857054Z",
     "shell.execute_reply": "2025-08-29T17:07:12.856656Z"
    },
    "papermill": {
     "duration": 0.007414,
     "end_time": "2025-08-29T17:07:12.857762",
     "exception": false,
     "start_time": "2025-08-29T17:07:12.850348",
     "status": "completed"
    },
    "tags": []
   },
   "outputs": [],
   "source": [
    "namer = (f'{x:03}' for x in itertools.count(start=0))"
   ]
  },
  {
   "cell_type": "code",
   "execution_count": 4,
   "id": "91923829",
   "metadata": {
    "execution": {
     "iopub.execute_input": "2025-08-29T17:07:12.865915Z",
     "iopub.status.busy": "2025-08-29T17:07:12.865745Z",
     "iopub.status.idle": "2025-08-29T17:31:31.810007Z",
     "shell.execute_reply": "2025-08-29T17:31:31.809249Z"
    },
    "papermill": {
     "duration": 1458.95347,
     "end_time": "2025-08-29T17:31:31.815098",
     "exception": false,
     "start_time": "2025-08-29T17:07:12.861628",
     "status": "completed"
    },
    "scrolled": true,
    "tags": []
   },
   "outputs": [
    {
     "name": "stdout",
     "output_type": "stream",
     "text": [
      "CPU times: user 24min 8s, sys: 2.25 s, total: 24min 10s\n",
      "Wall time: 24min 18s\n"
     ]
    }
   ],
   "source": [
    "%%time\n",
    "stats = hetmat.permute_graph(num_new_permutations=1,namer= namer)"
   ]
  }
 ],
 "metadata": {
  "kernelspec": {
   "display_name": "dwpc_rnn_clean",
   "language": "python",
   "name": "python3"
  },
  "language_info": {
   "codemirror_mode": {
    "name": "ipython",
    "version": 3
   },
   "file_extension": ".py",
   "mimetype": "text/x-python",
   "name": "python",
   "nbconvert_exporter": "python",
   "pygments_lexer": "ipython3",
   "version": "3.10.18"
  },
  "papermill": {
   "default_parameters": {},
   "duration": 1463.660599,
   "end_time": "2025-08-29T17:31:32.283710",
   "environment_variables": {},
   "exception": null,
   "input_path": "/projects/lgillenwater@xsede.org/dwpc_rnn/notebooks/02.generate-permutations.ipynb",
   "output_path": "/projects/lgillenwater@xsede.org/dwpc_rnn/notebooks/02.generate-permuations.ipynb",
   "parameters": {},
   "start_time": "2025-08-29T17:07:08.623111",
   "version": "2.6.0"
  }
 },
 "nbformat": 4,
 "nbformat_minor": 5
}
