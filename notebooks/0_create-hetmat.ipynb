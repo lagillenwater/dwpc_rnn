{
 "cells": [
  {
   "cell_type": "markdown",
   "id": "435e2e31",
   "metadata": {
    "papermill": {
     "duration": 0.004969,
     "end_time": "2025-08-29T16:54:06.735457",
     "exception": false,
     "start_time": "2025-08-29T16:54:06.730488",
     "status": "completed"
    },
    "tags": []
   },
   "source": [
    "# Export Hetionet v1.0 to hetmat format"
   ]
  },
  {
   "cell_type": "code",
   "execution_count": null,
   "id": "9bcaf392",
   "metadata": {
    "execution": {
     "iopub.execute_input": "2025-08-29T16:54:06.745080Z",
     "iopub.status.busy": "2025-08-29T16:54:06.744921Z",
     "iopub.status.idle": "2025-08-29T16:54:12.213190Z",
     "shell.execute_reply": "2025-08-29T16:54:12.212765Z"
    },
    "papermill": {
     "duration": 5.474951,
     "end_time": "2025-08-29T16:54:12.214296",
     "exception": false,
     "start_time": "2025-08-29T16:54:06.739345",
     "status": "completed"
    },
    "tags": []
   },
   "outputs": [],
   "source": [
    "# Import all required libraries\n",
    "import os\n",
    "\n",
    "# Domain-specific libraries\n",
    "import hetnetpy.readwrite\n",
    "import hetmatpy.hetmat\n",
    "import hetmatpy.hetmat.archive"
   ]
  },
  {
   "cell_type": "code",
   "execution_count": 2,
   "id": "b75e44b1",
   "metadata": {
    "execution": {
     "iopub.execute_input": "2025-08-29T16:54:12.225784Z",
     "iopub.status.busy": "2025-08-29T16:54:12.225580Z",
     "iopub.status.idle": "2025-08-29T16:55:04.549640Z",
     "shell.execute_reply": "2025-08-29T16:55:04.548816Z"
    },
    "papermill": {
     "duration": 52.32957,
     "end_time": "2025-08-29T16:55:04.550703",
     "exception": false,
     "start_time": "2025-08-29T16:54:12.221133",
     "status": "completed"
    },
    "tags": []
   },
   "outputs": [],
   "source": [
    "# Read Hetionet v1.0\n",
    "url = 'https://github.com/dhimmel/hetionet/raw/76550e6c93fbe92124edc71725e8c7dd4ca8b1f5/hetnet/json/hetionet-v1.0.json.bz2'\n",
    "graph = hetnetpy.readwrite.read_graph(url)"
   ]
  },
  {
   "cell_type": "code",
   "execution_count": 3,
   "id": "01c89ce7",
   "metadata": {
    "execution": {
     "iopub.execute_input": "2025-08-29T16:55:04.565118Z",
     "iopub.status.busy": "2025-08-29T16:55:04.564964Z",
     "iopub.status.idle": "2025-08-29T16:55:11.898221Z",
     "shell.execute_reply": "2025-08-29T16:55:11.897777Z"
    },
    "papermill": {
     "duration": 7.342103,
     "end_time": "2025-08-29T16:55:11.899217",
     "exception": false,
     "start_time": "2025-08-29T16:55:04.557114",
     "status": "completed"
    },
    "tags": []
   },
   "outputs": [],
   "source": [
    "path = os.path.join('..', 'data')\n",
    "os.makedirs(path, exist_ok=True)\n",
    "\n",
    "path = '../data'\n",
    "hetmat = hetmatpy.hetmat.hetmat_from_graph(graph, path)"
   ]
  },
  {
   "cell_type": "code",
   "execution_count": 4,
   "id": "52fe3262",
   "metadata": {
    "execution": {
     "iopub.execute_input": "2025-08-29T16:55:11.907376Z",
     "iopub.status.busy": "2025-08-29T16:55:11.907182Z",
     "iopub.status.idle": "2025-08-29T16:55:11.912369Z",
     "shell.execute_reply": "2025-08-29T16:55:11.912044Z"
    },
    "papermill": {
     "duration": 0.010135,
     "end_time": "2025-08-29T16:55:11.912943",
     "exception": false,
     "start_time": "2025-08-29T16:55:11.902808",
     "status": "completed"
    },
    "tags": []
   },
   "outputs": [
    {
     "data": {
      "text/plain": [
       "['Symptom',\n",
       " 'Gene',\n",
       " 'Cellular Component',\n",
       " 'Anatomy',\n",
       " 'Side Effect',\n",
       " 'Biological Process',\n",
       " 'Compound',\n",
       " 'Pathway',\n",
       " 'Molecular Function',\n",
       " 'Pharmacologic Class',\n",
       " 'Disease']"
      ]
     },
     "execution_count": 4,
     "metadata": {},
     "output_type": "execute_result"
    }
   ],
   "source": [
    "# Get lists of metanodes and metaedges\n",
    "metanodes = list(hetmat.metagraph.get_nodes())\n",
    "metaedges = list(hetmat.metagraph.get_edges(exclude_inverts=True))\n",
    "list(map(str, metanodes))"
   ]
  },
  {
   "cell_type": "markdown",
   "id": "7088d4c5",
   "metadata": {
    "papermill": {
     "duration": 0.003763,
     "end_time": "2025-08-29T16:55:11.920872",
     "exception": false,
     "start_time": "2025-08-29T16:55:11.917109",
     "status": "completed"
    },
    "tags": []
   },
   "source": [
    "## Demonstrate metaedge_to_adjacency_matrix"
   ]
  },
  {
   "cell_type": "code",
   "execution_count": 5,
   "id": "4e30da29",
   "metadata": {
    "execution": {
     "iopub.execute_input": "2025-08-29T16:55:11.928844Z",
     "iopub.status.busy": "2025-08-29T16:55:11.928708Z",
     "iopub.status.idle": "2025-08-29T16:55:11.988300Z",
     "shell.execute_reply": "2025-08-29T16:55:11.987973Z"
    },
    "papermill": {
     "duration": 0.064177,
     "end_time": "2025-08-29T16:55:11.988870",
     "exception": false,
     "start_time": "2025-08-29T16:55:11.924693",
     "status": "completed"
    },
    "tags": []
   },
   "outputs": [
    {
     "data": {
      "text/plain": [
       "array([[False, False, False, False, False],\n",
       "       [False, False, False, False, False],\n",
       "       [False, False, False, False, False],\n",
       "       [False, False, False, False, False],\n",
       "       [False, False, False, False, False]])"
      ]
     },
     "execution_count": 5,
     "metadata": {},
     "output_type": "execute_result"
    }
   ],
   "source": [
    "rows, cols, matrix = hetmat.metaedge_to_adjacency_matrix('CtD', dense_threshold=0)\n",
    "matrix[:5, :5]"
   ]
  },
  {
   "cell_type": "code",
   "execution_count": 6,
   "id": "993c7a42",
   "metadata": {
    "execution": {
     "iopub.execute_input": "2025-08-29T16:55:11.998372Z",
     "iopub.status.busy": "2025-08-29T16:55:11.998243Z",
     "iopub.status.idle": "2025-08-29T16:55:12.000715Z",
     "shell.execute_reply": "2025-08-29T16:55:12.000415Z"
    },
    "papermill": {
     "duration": 0.007677,
     "end_time": "2025-08-29T16:55:12.001274",
     "exception": false,
     "start_time": "2025-08-29T16:55:11.993597",
     "status": "completed"
    },
    "tags": []
   },
   "outputs": [
    {
     "data": {
      "text/plain": [
       "np.float64(0.0035508691398901345)"
      ]
     },
     "execution_count": 6,
     "metadata": {},
     "output_type": "execute_result"
    }
   ],
   "source": [
    "# Density\n",
    "matrix.mean()"
   ]
  },
  {
   "cell_type": "code",
   "execution_count": 7,
   "id": "78dabe31",
   "metadata": {
    "execution": {
     "iopub.execute_input": "2025-08-29T16:55:12.010454Z",
     "iopub.status.busy": "2025-08-29T16:55:12.010314Z",
     "iopub.status.idle": "2025-08-29T16:55:12.012861Z",
     "shell.execute_reply": "2025-08-29T16:55:12.012560Z"
    },
    "papermill": {
     "duration": 0.007749,
     "end_time": "2025-08-29T16:55:12.013497",
     "exception": false,
     "start_time": "2025-08-29T16:55:12.005748",
     "status": "completed"
    },
    "tags": []
   },
   "outputs": [
    {
     "data": {
      "text/plain": [
       "(['DB00014', 'DB00035', 'DB00050', 'DB00091', 'DB00093'],\n",
       " ['DOID:0050156',\n",
       "  'DOID:0050425',\n",
       "  'DOID:0050741',\n",
       "  'DOID:0050742',\n",
       "  'DOID:0060073'])"
      ]
     },
     "execution_count": 7,
     "metadata": {},
     "output_type": "execute_result"
    }
   ],
   "source": [
    "# row and column identities\n",
    "rows[:5], cols[:5]"
   ]
  }
 ],
 "metadata": {
  "kernelspec": {
   "display_name": "dwpc_rnn_clean",
   "language": "python",
   "name": "python3"
  },
  "language_info": {
   "codemirror_mode": {
    "name": "ipython",
    "version": 3
   },
   "file_extension": ".py",
   "mimetype": "text/x-python",
   "name": "python",
   "nbconvert_exporter": "python",
   "pygments_lexer": "ipython3",
   "version": "3.10.18"
  },
  "papermill": {
   "default_parameters": {},
   "duration": 75.514026,
   "end_time": "2025-08-29T16:55:14.833077",
   "environment_variables": {},
   "exception": null,
   "input_path": "/projects/lgillenwater@xsede.org/dwpc_rnn/notebooks/01.create-hetmat.ipynb",
   "output_path": "/projects/lgillenwater@xsede.org/dwpc_rnn/notebooks/01.create-hetmat.ipynb",
   "parameters": {},
   "start_time": "2025-08-29T16:53:59.319051",
   "version": "2.6.0"
  }
 },
 "nbformat": 4,
 "nbformat_minor": 5
}
