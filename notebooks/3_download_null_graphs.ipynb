{
 "cells": [
  {
   "cell_type": "markdown",
   "id": "313f0fc9",
   "metadata": {},
   "source": [
    "# Download Hetionet Null Graphs\n",
    "\n",
    "This notebook downloads the pre-computed null graphs (permutations) from the Hetionet repository.\n",
    "\n",
    "**Source**: https://github.com/hetio/hetionet/blob/a95ae76581af604e91d744680aee3f888fa18887/hetnet/permuted/matrix/hetionet-v1.0-permutations.zip\n",
    "\n"
   ]
  },
  {
   "cell_type": "code",
   "execution_count": null,
   "id": "577534a0",
   "metadata": {},
   "outputs": [],
   "source": [
    "# Import all required libraries\n",
    "import os\n",
    "import sys\n",
    "from pathlib import Path\n",
    "\n",
    "# Add src directory to path for helper functions\n",
    "repo_dir = Path().cwd().parent\n",
    "src_dir = repo_dir / \"src\"\n",
    "sys.path.insert(0, str(src_dir))\n",
    "\n",
    "# Import helper functions from src package\n",
    "from download_utils import (\n",
    "    download_file,\n",
    "    extract_zip,\n",
    "    organize_permutations,\n",
    "    download_hetionet_permutations\n",
    ")\n",
    "\n",
    "# Data manipulation\n",
    "import pandas as pd"
   ]
  },
  {
   "cell_type": "code",
   "execution_count": null,
   "id": "3d7df327",
   "metadata": {},
   "outputs": [],
   "source": [
    "# Configuration\n",
    "DOWNLOAD_URL = \"https://github.com/hetio/hetionet/raw/a95ae76581af604e91d744680aee3f888fa18887/hetnet/permuted/matrix/hetionet-v1.0-permutations.zip\"\n",
    "REPO_DIR = Path().cwd().parent\n",
    "DATA_DIR = REPO_DIR / \"data\"\n",
    "PERMUTATIONS_DIR = DATA_DIR / \"permutations\"\n",
    "HETIO_PERMUTATIONS_DIR = PERMUTATIONS_DIR / \"hetio200\"  # New directory for downloaded permutations\n",
    "DOWNLOAD_DIR = DATA_DIR / \"downloads\"\n",
    "ZIP_FILENAME = \"hetionet-v1.0-permutations.zip\"\n",
    "ZIP_PATH = DOWNLOAD_DIR / ZIP_FILENAME\n",
    "\n",
    "print(f\"Repository directory: {REPO_DIR}\")\n",
    "print(f\"Data directory: {DATA_DIR}\")\n",
    "print(f\"Permutations directory: {PERMUTATIONS_DIR}\")\n",
    "print(f\"Hetio permutations directory: {HETIO_PERMUTATIONS_DIR}\")\n",
    "print(f\"Download directory: {DOWNLOAD_DIR}\")\n",
    "print(f\"Download URL: {DOWNLOAD_URL}\")"
   ]
  },
  {
   "cell_type": "code",
   "execution_count": null,
   "id": "dd6e3c0e",
   "metadata": {},
   "outputs": [],
   "source": [
    "# Create necessary directories\n",
    "DOWNLOAD_DIR.mkdir(parents=True, exist_ok=True)\n",
    "PERMUTATIONS_DIR.mkdir(parents=True, exist_ok=True)\n",
    "HETIO_PERMUTATIONS_DIR.mkdir(parents=True, exist_ok=True)\n",
    "\n",
    "print(f\"✓ Created download directory: {DOWNLOAD_DIR}\")\n",
    "print(f\"✓ Created permutations directory: {PERMUTATIONS_DIR}\")\n",
    "print(f\"✓ Created hetio permutations directory: {HETIO_PERMUTATIONS_DIR}\")"
   ]
  },
  {
   "cell_type": "code",
   "execution_count": null,
   "id": "88c45343",
   "metadata": {},
   "outputs": [],
   "source": [
    "# Execute the complete download workflow using helper function\n",
    "success = download_hetionet_permutations(\n",
    "    download_url=DOWNLOAD_URL,\n",
    "    data_dir=DATA_DIR,\n",
    "    permutations_dir=PERMUTATIONS_DIR,\n",
    "    hetio_permutations_dir=HETIO_PERMUTATIONS_DIR\n",
    ")\n",
    "\n",
    "if success:\n",
    "    print(\"✓ Hetionet permutations download and organization completed successfully!\")\n",
    "else:\n",
    "    print(\"✗ Download workflow failed\")"
   ]
  },
  {
   "cell_type": "code",
   "execution_count": null,
   "id": "982fc262",
   "metadata": {},
   "outputs": [],
   "source": [
    "# Summary and verification\n",
    "print(\"\\n\" + \"=\"*60)\n",
    "print(\"DOWNLOAD SUMMARY\")\n",
    "print(\"=\"*60)\n",
    "\n",
    "# Check if download was successful by checking the target directory\n",
    "if HETIO_PERMUTATIONS_DIR.exists():\n",
    "    hetio_items = list(HETIO_PERMUTATIONS_DIR.iterdir())\n",
    "    print(f\"✓ Hetio permutations directory: {len(hetio_items)} items\")\n",
    "    \n",
    "    # Show some examples\n",
    "    for item in sorted(hetio_items)[:5]:\n",
    "        print(f\"  - {item.name}\")\n",
    "    if len(hetio_items) > 5:\n",
    "        print(f\"  ... and {len(hetio_items) - 5} more\")\n",
    "else:\n",
    "    print(f\"✗ Hetio permutations directory not found\")\n",
    "\n",
    "# Check local permutations directory for comparison\n",
    "if PERMUTATIONS_DIR.exists():\n",
    "    local_items = [item for item in PERMUTATIONS_DIR.iterdir() if item.name != \"hetio200\"]\n",
    "    print(f\"✓ Local permutations directory: {len(local_items)} items (excluding hetio200)\")\n",
    "\n",
    "print(\"\\n\" + \"=\"*60)\n",
    "print(\"DIRECTORY STRUCTURE\")\n",
    "print(\"=\"*60)\n",
    "print(f\"📁 {PERMUTATIONS_DIR.name}/\")\n",
    "print(f\"  📁 hetio200/           <- Downloaded Hetionet permutations\")\n",
    "print(f\"  📁 000.hetmat/         <- Your local permutations\") \n",
    "print(f\"  📁 001.hetmat/\")\n",
    "print(f\"  📁 ...\")\n",
    "\n",
    "print(\"\\n\" + \"=\"*60)\n",
    "print(\"NEXT STEPS\")\n",
    "print(\"=\"*60)\n",
    "print(\"1. Verify the permutation files are in the expected format\")\n",
    "print(\"2. Update your analysis notebooks to compare hetio200 vs local permutations\")\n",
    "print(\"3. Run edge prediction analysis on both sets of permutations\")\n",
    "print(\"4. Compare results between downloaded and locally generated permutations\")"
   ]
  }
 ],
 "metadata": {
  "language_info": {
   "name": "python"
  }
 },
 "nbformat": 4,
 "nbformat_minor": 5
}
