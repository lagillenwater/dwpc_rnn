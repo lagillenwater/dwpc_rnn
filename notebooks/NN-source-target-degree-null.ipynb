{
 "cells": [
  {
   "cell_type": "markdown",
   "id": "2fa82934",
   "metadata": {},
   "source": [
    "# Notebook testing NN for predicting DWPC based on source and target degree"
   ]
  },
  {
   "cell_type": "code",
   "execution_count": null,
   "id": "9a5dc361",
   "metadata": {},
   "outputs": [
    {
     "name": "stderr",
     "output_type": "stream",
     "text": [
      "/opt/miniconda3/envs/dwpc_rnn_clean/lib/python3.10/site-packages/requests/__init__.py:86: RequestsDependencyWarning: Unable to find acceptable character detection dependency (chardet or charset_normalizer).\n",
      "  warnings.warn(\n"
     ]
    }
   ],
   "source": [
    "# Import all required libraries\n",
    "import os\n",
    "import random\n",
    "import requests\n",
    "from typing import List, Dict, Tuple\n",
    "\n",
    "# Data manipulation and scientific computing  \n",
    "import numpy as np\n",
    "import networkx as nx\n",
    "\n",
    "# Machine learning and neural networks\n",
    "import torch\n",
    "import torch.nn as nn\n",
    "from torch.utils.data import Dataset, DataLoader\n",
    "from sklearn.model_selection import train_test_split\n",
    "\n",
    "# Domain-specific libraries\n",
    "import hetmatpy\n",
    "from hetmatpy.hetmat import hetmat_from_graph, HetMat\n",
    "import hetnetpy"
   ]
  },
  {
   "cell_type": "markdown",
   "id": "b215c867",
   "metadata": {},
   "source": [
    "## 1. Load Null graphs"
   ]
  },
  {
   "cell_type": "code",
   "execution_count": null,
   "id": "4e9b3bb7",
   "metadata": {},
   "outputs": [
    {
     "name": "stdout",
     "output_type": "stream",
     "text": [
      "Downloaded https://github.com/greenelab/connectivity-search-analyses/raw/main/data/hetionet-v1.0.hetmat/permutations/001.hetmat to ../hetionet-v1.0.hetmat/permutations/001.hetmat\n",
      "Downloaded https://github.com/greenelab/connectivity-search-analyses/raw/main/data/hetionet-v1.0.hetmat/permutations/002.hetmat to ../hetionet-v1.0.hetmat/permutations/002.hetmat\n",
      "Downloaded https://github.com/greenelab/connectivity-search-analyses/raw/main/data/hetionet-v1.0.hetmat/permutations/002.hetmat to ../hetionet-v1.0.hetmat/permutations/002.hetmat\n",
      "Downloaded https://github.com/greenelab/connectivity-search-analyses/raw/main/data/hetionet-v1.0.hetmat/permutations/003.hetmat to ../hetionet-v1.0.hetmat/permutations/003.hetmat\n",
      "\n",
      "Null graph 1 stats:\n",
      "Downloaded https://github.com/greenelab/connectivity-search-analyses/raw/main/data/hetionet-v1.0.hetmat/permutations/003.hetmat to ../hetionet-v1.0.hetmat/permutations/003.hetmat\n",
      "\n",
      "Null graph 1 stats:\n"
     ]
    },
    {
     "ename": "AttributeError",
     "evalue": "'HetMat' object has no attribute 'node_df'",
     "output_type": "error",
     "traceback": [
      "\u001b[0;31m---------------------------------------------------------------------------\u001b[0m",
      "\u001b[0;31mAttributeError\u001b[0m                            Traceback (most recent call last)",
      "Cell \u001b[0;32mIn[14], line 30\u001b[0m\n\u001b[1;32m     28\u001b[0m null_graphs\u001b[38;5;241m.\u001b[39mappend(null_graph)\n\u001b[1;32m     29\u001b[0m \u001b[38;5;28mprint\u001b[39m(\u001b[38;5;124mf\u001b[39m\u001b[38;5;124m\"\u001b[39m\u001b[38;5;130;01m\\n\u001b[39;00m\u001b[38;5;124mNull graph \u001b[39m\u001b[38;5;132;01m{\u001b[39;00mi\u001b[38;5;132;01m}\u001b[39;00m\u001b[38;5;124m stats:\u001b[39m\u001b[38;5;124m\"\u001b[39m)\n\u001b[0;32m---> 30\u001b[0m nodes \u001b[38;5;241m=\u001b[39m \u001b[43mnull_graph\u001b[49m\u001b[38;5;241;43m.\u001b[39;49m\u001b[43mnode_df\u001b[49m\n\u001b[1;32m     31\u001b[0m edges \u001b[38;5;241m=\u001b[39m null_graph\u001b[38;5;241m.\u001b[39medge_df\n\u001b[1;32m     32\u001b[0m \u001b[38;5;28mprint\u001b[39m(\u001b[38;5;124mf\u001b[39m\u001b[38;5;124m\"\u001b[39m\u001b[38;5;124mNumber of nodes: \u001b[39m\u001b[38;5;132;01m{\u001b[39;00m\u001b[38;5;28mlen\u001b[39m(nodes)\u001b[38;5;132;01m}\u001b[39;00m\u001b[38;5;124m\"\u001b[39m)\n",
      "\u001b[0;31mAttributeError\u001b[0m: 'HetMat' object has no attribute 'node_df'"
     ]
    }
   ],
   "source": [
    "# Define the base URL for the null graphs\n",
    "base_url = \"https://github.com/greenelab/connectivity-search-analyses/raw/main/data/hetionet-v1.0.hetmat/permutations/00{}.hetmat\"\n",
    "\n",
    "# Initialize list to store null graphs\n",
    "null_graphs = []\n",
    "\n",
    "# function to download files locally\n",
    "def download_file(url: str, dest_folder: str):\n",
    "    if not os.path.exists(dest_folder):\n",
    "        os.makedirs(dest_folder)\n",
    "    response = requests.get(url)\n",
    "    if response.status_code == 200:\n",
    "        file_path = os.path.join(dest_folder, os.path.basename(url))\n",
    "        with open(file_path, 'wb') as f:\n",
    "            f.write(response.content)\n",
    "        print(f\"Downloaded {url} to {file_path}\")\n",
    "    else:\n",
    "        print(f\"Failed to download {url}\")\n",
    "\n",
    "# downloading null hetmats\n",
    "for i in range(1, 4):  # This will get graphs 01, 02, 03\n",
    "    url = base_url.format(i)\n",
    "    download_file(url, \"../hetionet-v1.0.hetmat/permutations\")\n",
    "\n",
    "# load graphs\n",
    "for i in range(1, 4):\n",
    "    null_graph = hetmatpy.hetmat.HetMat(f\"../hetionet-v1.0.hetmat/permutations/00{i}.hetmat\")\n",
    "    null_graphs.append(null_graph)\n",
    "    print(f\"\\nNull graph {i} stats:\")\n",
    "    num_nodes = len(null_graph.node_ids)\n",
    "    num_edges = sum(len(edge_matrix.nonzero()[0]) for edge_matrix in null_graph.edge_matrices.values())\n",
    "    print(f\"Number of nodes: {num_nodes}\")\n",
    "    print(f\"Number of edges: {num_edges}\")"
   ]
  },
  {
   "cell_type": "code",
   "execution_count": null,
   "id": "c233e0b6",
   "metadata": {},
   "outputs": [],
   "source": [
    "url = 'https://github.com/dhimmel/hetionet/raw/76550e6c93fbe92124edc71725e8c7dd4ca8b1f5/hetnet/json/hetionet-v1.0.json.bz2'\n",
    "graph = hetnetpy.readwrite.read_graph(url)"
   ]
  },
  {
   "cell_type": "code",
   "execution_count": null,
   "id": "ebe62f44",
   "metadata": {},
   "outputs": [
    {
     "name": "stdout",
     "output_type": "stream",
     "text": [
      "Total number of nodes: 47031\n",
      "Total number of edges: 2250197\n"
     ]
    }
   ],
   "source": [
    "nodes = graph.get_nodes()\n",
    "# Get total number of nodes\n",
    "num_nodes = len(list(nodes))\n",
    "print(f\"Total number of nodes: {num_nodes}\")\n",
    "\n",
    "# Get total number of edges\n",
    "edges = graph.get_edges()\n",
    "num_edges = len(list(edges))\n",
    "print(f\"Total number of edges: {num_edges}\")"
   ]
  },
  {
   "cell_type": "code",
   "execution_count": null,
   "id": "218571cb",
   "metadata": {},
   "outputs": [
    {
     "name": "stdout",
     "output_type": "stream",
     "text": [
      "Created NetworkX graph with 47031 nodes and 2250197 edges\n"
     ]
    }
   ],
   "source": [
    "# Convert hetionet graph to networkx graph\n",
    "G_nx = nx.MultiGraph()\n",
    "\n",
    "# Add nodes with attributes from hetionet graph\n",
    "for node in graph.get_nodes():\n",
    "    G_nx.add_node(node.identifier, \n",
    "                  node_type=node.metanode.identifier,\n",
    "                  name=node.name,\n",
    "                  data=node.data)\n",
    "\n",
    "# Add edges from hetionet graph\n",
    "for edge in graph.get_edges():\n",
    "    source = edge.source.identifier\n",
    "    target = edge.target.identifier\n",
    "    G_nx.add_edge(source, target, \n",
    "                  edge_type=edge.metaedge.kind,\n",
    "                  data=edge.data)\n",
    "\n",
    "print(f\"Created NetworkX graph with {G_nx.number_of_nodes()} nodes and {G_nx.number_of_edges()} edges\")"
   ]
  },
  {
   "cell_type": "code",
   "execution_count": null,
   "id": "b75d048d",
   "metadata": {},
   "outputs": [
    {
     "name": "stdout",
     "output_type": "stream",
     "text": [
      "Number of disease nodes: 137\n",
      "Sample disease nodes:\n",
      "DOID:14227\n",
      "DOID:9352\n",
      "DOID:8778\n",
      "DOID:5612\n",
      "DOID:363\n"
     ]
    }
   ],
   "source": [
    "# Check for disease nodes in G_nx\n",
    "disease_nodes = [n for n, d in G_nx.nodes(data=True) if d.get('node_type') == 'Disease']\n",
    "print(f\"Number of disease nodes: {len(disease_nodes)}\")\n",
    "print(\"Sample disease nodes:\")\n",
    "for n in disease_nodes[:5]:\n",
    "    print(n)"
   ]
  },
  {
   "cell_type": "code",
   "execution_count": null,
   "id": "d66a141d",
   "metadata": {},
   "outputs": [
    {
     "name": "stdout",
     "output_type": "stream",
     "text": [
      "\n",
      "Node count by type:\n",
      "- Anatomy: 402 nodes\n",
      "- Biological Process: 11381 nodes\n",
      "- Cellular Component: 1391 nodes\n",
      "- Compound: 1552 nodes\n",
      "- Disease: 137 nodes\n",
      "- Gene: 20945 nodes\n",
      "- Molecular Function: 2884 nodes\n",
      "- Pathway: 1822 nodes\n",
      "- Pharmacologic Class: 345 nodes\n",
      "- Side Effect: 5734 nodes\n",
      "- Symptom: 438 nodes\n"
     ]
    }
   ],
   "source": [
    "# Get unique node types from G_nx\n",
    "node_types = set(data['node_type'] for _, data in G_nx.nodes(data=True))\n",
    "\n",
    "\n",
    "# Print count of nodes for each type\n",
    "print(\"\\nNode count by type:\")\n",
    "for node_type in sorted(node_types):\n",
    "    count = sum(1 for _, data in G_nx.nodes(data=True) if data['node_type'] == node_type)\n",
    "    print(f\"- {node_type}: {count} nodes\")"
   ]
  },
  {
   "cell_type": "code",
   "execution_count": null,
   "id": "2a36d8f1",
   "metadata": {},
   "outputs": [
    {
     "name": "stdout",
     "output_type": "stream",
     "text": [
      "Unique edge types in the graph:\n",
      "- associates\n",
      "- binds\n",
      "- causes\n",
      "- covaries\n",
      "- downregulates\n",
      "- expresses\n",
      "- includes\n",
      "- interacts\n",
      "- localizes\n",
      "- palliates\n",
      "- participates\n",
      "- presents\n",
      "- regulates\n",
      "- resembles\n",
      "- treats\n",
      "- upregulates\n"
     ]
    }
   ],
   "source": [
    "# Get unique edge types from G_nx\n",
    "edge_types = set(data['edge_type'] for u, v, data in G_nx.edges(data=True))\n",
    "\n",
    "# Print the unique edge types\n",
    "print(\"Unique edge types in the graph:\")\n",
    "for edge_type in sorted(edge_types):\n",
    "    print(f\"- {edge_type}\")"
   ]
  }
 ],
 "metadata": {
  "kernelspec": {
   "display_name": "dwpc_rnn_clean",
   "language": "python",
   "name": "python3"
  },
  "language_info": {
   "codemirror_mode": {
    "name": "ipython",
    "version": 3
   },
   "file_extension": ".py",
   "mimetype": "text/x-python",
   "name": "python",
   "nbconvert_exporter": "python",
   "pygments_lexer": "ipython3",
   "version": "3.10.18"
  }
 },
 "nbformat": 4,
 "nbformat_minor": 5
}
